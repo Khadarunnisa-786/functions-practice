{
 "cells": [
  {
   "cell_type": "markdown",
   "id": "92a8492b-ae6c-43e6-955b-4dbe5672730e",
   "metadata": {},
   "source": [
    "1. Write a function that takes two numbers and returns their sum.\n"
   ]
  },
  {
   "cell_type": "code",
   "execution_count": 9,
   "id": "87afc8e8-75e0-4486-95ec-ca6f2421c977",
   "metadata": {},
   "outputs": [],
   "source": [
    "def sum(a,b) :\n",
    "    return a+b"
   ]
  },
  {
   "cell_type": "code",
   "execution_count": 10,
   "id": "d3cf80ca-890c-4812-8c2a-9c3b4ca013c6",
   "metadata": {},
   "outputs": [
    {
     "data": {
      "text/plain": [
       "7"
      ]
     },
     "execution_count": 10,
     "metadata": {},
     "output_type": "execute_result"
    }
   ],
   "source": [
    "sum(3,4)"
   ]
  },
  {
   "cell_type": "markdown",
   "id": "574337f7-787f-4373-9a5f-1dbd75e8ca9a",
   "metadata": {},
   "source": [
    "2. Write a function that takes a string and returns it reversed.\n"
   ]
  },
  {
   "cell_type": "code",
   "execution_count": 11,
   "id": "b4d479ac-fd51-4db1-9f07-ec6dc50fe711",
   "metadata": {},
   "outputs": [],
   "source": [
    "s = (\"khadar\",'aimnxt')    "
   ]
  },
  {
   "cell_type": "code",
   "execution_count": 12,
   "id": "d0086681-f5cf-4af0-9c88-4468222dc5de",
   "metadata": {},
   "outputs": [],
   "source": [
    "def str(s):\n",
    "   return s[::-1]\n",
    "    "
   ]
  },
  {
   "cell_type": "code",
   "execution_count": 13,
   "id": "067c061c-2f0d-467c-ac6d-51707b8b3468",
   "metadata": {},
   "outputs": [
    {
     "data": {
      "text/plain": [
       "('aimnxt', 'khadar')"
      ]
     },
     "execution_count": 13,
     "metadata": {},
     "output_type": "execute_result"
    }
   ],
   "source": [
    "str(s)"
   ]
  },
  {
   "cell_type": "markdown",
   "id": "f194e47c-3658-45cc-8bed-e8987bdb789b",
   "metadata": {},
   "source": [
    "3. Write a function that checks if a number is even or odd."
   ]
  },
  {
   "cell_type": "code",
   "execution_count": 14,
   "id": "479eb801-3449-4622-9dbc-267b238b1f8d",
   "metadata": {},
   "outputs": [],
   "source": [
    "def test( i) :\n",
    "        if i % 2 == 0:\n",
    "            print(' even')\n",
    "        else :\n",
    "            print('odd')"
   ]
  },
  {
   "cell_type": "code",
   "execution_count": 15,
   "id": "e118ae88-c70f-41ad-a025-cd8b6ec93f59",
   "metadata": {},
   "outputs": [
    {
     "name": "stdout",
     "output_type": "stream",
     "text": [
      " even\n"
     ]
    }
   ],
   "source": [
    "test(8)"
   ]
  },
  {
   "cell_type": "markdown",
   "id": "86e8d8da-d04c-4c70-9aa2-b4accfeb35fe",
   "metadata": {},
   "source": [
    "4. Write a function that returns the factorial of a number."
   ]
  },
  {
   "cell_type": "code",
   "execution_count": 16,
   "id": "6d28a2cf-80c2-4390-a05a-111cf3d74512",
   "metadata": {},
   "outputs": [],
   "source": [
    "def factorial(n):\n",
    "    if n < 0:\n",
    "        return \"Factorial is not defined for negative numbers\"\n",
    "    elif n == 0 or n == 1:\n",
    "        return 1\n",
    "    else:\n",
    "        return n * factorial(n - 1)\n"
   ]
  },
  {
   "cell_type": "code",
   "execution_count": 17,
   "id": "9e2e8fe1-7486-46dc-8fe0-b31beb0fe919",
   "metadata": {},
   "outputs": [
    {
     "data": {
      "text/plain": [
       "720"
      ]
     },
     "execution_count": 17,
     "metadata": {},
     "output_type": "execute_result"
    }
   ],
   "source": [
    "factorial(6)"
   ]
  },
  {
   "cell_type": "markdown",
   "id": "7930f4a4-7984-4830-8346-a112fb8ab735",
   "metadata": {},
   "source": [
    "5. Write a function that takes a list and returns the maximum element."
   ]
  },
  {
   "cell_type": "code",
   "execution_count": null,
   "id": "84954577-58d4-4892-9555-cb3f6f968d39",
   "metadata": {},
   "outputs": [],
   "source": []
  },
  {
   "cell_type": "markdown",
   "id": "f34435a4-6bed-4ea7-b6e6-45d813c8d411",
   "metadata": {},
   "source": [
    "6. Print numbers from 1 to 10 using a for loop.\n"
   ]
  },
  {
   "cell_type": "code",
   "execution_count": 18,
   "id": "bdbb50b5-e117-44ff-875c-8fdc7eddd95d",
   "metadata": {},
   "outputs": [
    {
     "name": "stdout",
     "output_type": "stream",
     "text": [
      "1\n",
      "2\n",
      "3\n",
      "4\n",
      "5\n",
      "6\n",
      "7\n",
      "8\n",
      "9\n",
      "10\n"
     ]
    }
   ],
   "source": [
    "for i in range(1, 11):\n",
    "    print(i)\n"
   ]
  },
  {
   "cell_type": "markdown",
   "id": "8edb87ec-d6a1-4ccf-a5e4-2135974452f1",
   "metadata": {},
   "source": [
    "7. Print each character in a string using a for loop.\n"
   ]
  },
  {
   "cell_type": "code",
   "execution_count": 19,
   "id": "46d36974-5d77-4d16-bfcc-aab1763f46c0",
   "metadata": {},
   "outputs": [
    {
     "name": "stdout",
     "output_type": "stream",
     "text": [
      "datascience\n",
      "aimnxt\n"
     ]
    }
   ],
   "source": [
    "s =( \"datascience\", \"aimnxt\")\n",
    "for i in s:\n",
    "    print(i)\n"
   ]
  },
  {
   "cell_type": "markdown",
   "id": "2ece8809-982c-4db1-ad73-ae0f26fdc3f4",
   "metadata": {},
   "source": [
    "8. Write a program that sums all numbers in a list using a for loop.\n"
   ]
  },
  {
   "cell_type": "code",
   "execution_count": 20,
   "id": "98413784-dfde-4090-a753-33bfc2ca6f66",
   "metadata": {},
   "outputs": [
    {
     "name": "stdout",
     "output_type": "stream",
     "text": [
      "15\n"
     ]
    }
   ],
   "source": [
    "l = [1, 2, 3, 4, 5]\n",
    "sum = 0\n",
    "for i in l:\n",
    "    sum += i\n",
    "print(sum)\n"
   ]
  },
  {
   "cell_type": "markdown",
   "id": "652bceca-7819-42de-bb5c-0462c95606e5",
   "metadata": {},
   "source": [
    "9. Print the multiplication table of a given number using a for loop.\n"
   ]
  },
  {
   "cell_type": "code",
   "execution_count": 21,
   "id": "3055fe23-cbaa-4e6f-a63f-cd24e40edd80",
   "metadata": {},
   "outputs": [
    {
     "name": "stdout",
     "output_type": "stream",
     "text": [
      "5 x 1 = 5\n",
      "5 x 2 = 10\n",
      "5 x 3 = 15\n",
      "5 x 4 = 20\n",
      "5 x 5 = 25\n",
      "5 x 6 = 30\n",
      "5 x 7 = 35\n",
      "5 x 8 = 40\n",
      "5 x 9 = 45\n",
      "5 x 10 = 50\n"
     ]
    }
   ],
   "source": [
    "n = 5\n",
    "for i in range(1, 11):\n",
    "    print(f\"{n} x {i} = {n*i}\")\n"
   ]
  },
  {
   "cell_type": "markdown",
   "id": "c9230996-c268-4a46-be02-31278303b04e",
   "metadata": {},
   "source": [
    "10. Write a program that prints all even numbers from 1 to 50.\n"
   ]
  },
  {
   "cell_type": "code",
   "execution_count": 22,
   "id": "ccbea76e-3016-46a5-9433-bd03bd2d505a",
   "metadata": {},
   "outputs": [
    {
     "name": "stdout",
     "output_type": "stream",
     "text": [
      "1\n",
      "2\n",
      "3\n",
      "4\n",
      "5\n",
      "6\n",
      "7\n",
      "8\n",
      "9\n",
      "10\n",
      "11\n",
      "12\n",
      "13\n",
      "14\n",
      "15\n",
      "16\n",
      "17\n",
      "18\n",
      "19\n",
      "20\n",
      "21\n",
      "22\n",
      "23\n",
      "24\n",
      "25\n",
      "26\n",
      "27\n",
      "28\n",
      "29\n",
      "30\n",
      "31\n",
      "32\n",
      "33\n",
      "34\n",
      "35\n",
      "36\n",
      "37\n",
      "38\n",
      "39\n",
      "40\n",
      "41\n",
      "42\n",
      "43\n",
      "44\n",
      "45\n",
      "46\n",
      "47\n",
      "48\n",
      "49\n",
      "50\n"
     ]
    }
   ],
   "source": [
    "for i in range(1, 51):\n",
    "    print(i)\n"
   ]
  },
  {
   "cell_type": "markdown",
   "id": "ae8a2ec8-c32b-450e-880e-f676242f6153",
   "metadata": {},
   "source": [
    "11. Print numbers from 1 to 10 using a while loop.\n"
   ]
  },
  {
   "cell_type": "code",
   "execution_count": 23,
   "id": "af6703b5-3d6d-4804-bbdf-c18b2191bfcd",
   "metadata": {},
   "outputs": [
    {
     "name": "stdout",
     "output_type": "stream",
     "text": [
      "1\n",
      "2\n",
      "3\n",
      "4\n",
      "5\n",
      "6\n",
      "7\n",
      "8\n",
      "9\n",
      "10\n"
     ]
    }
   ],
   "source": [
    "i = 1\n",
    "while i <= 10:\n",
    "    print(i)\n",
    "    i += 1\n"
   ]
  },
  {
   "cell_type": "markdown",
   "id": "fbfd61d5-25f6-4ef3-a70a-0d8f73b499c5",
   "metadata": {},
   "source": [
    "12. Keep taking input from the user until they type \"exit\".\n"
   ]
  },
  {
   "cell_type": "code",
   "execution_count": 25,
   "id": "6318e299-8210-470f-a3f3-dfa474824754",
   "metadata": {},
   "outputs": [
    {
     "name": "stdin",
     "output_type": "stream",
     "text": [
      "Enter something (type 'exit' to quit):  khadar\n",
      "Enter something (type 'exit' to quit):  aimnxt\n",
      "Enter something (type 'exit' to quit):  exit\n"
     ]
    },
    {
     "name": "stdout",
     "output_type": "stream",
     "text": [
      "exit\n"
     ]
    }
   ],
   "source": [
    "while True:\n",
    "    user_input = input(\"Enter something (type 'exit' to quit): \")\n",
    "    if user_input.lower() == \"exit\":\n",
    "        print('exit')\n",
    "        break"
   ]
  },
  {
   "cell_type": "markdown",
   "id": "09b37b68-657f-4c28-9676-ca3105a253b5",
   "metadata": {},
   "source": [
    "13. Write a program that finds the sum of digits of a number using a while loop.\n"
   ]
  },
  {
   "cell_type": "code",
   "execution_count": null,
   "id": "96dd2712-dd6e-4b1b-9c67-a06f89df16c0",
   "metadata": {},
   "outputs": [],
   "source": []
  },
  {
   "cell_type": "markdown",
   "id": "73233041-8550-4c63-86e6-88505c03b991",
   "metadata": {},
   "source": [
    "14. Guess the number game: Keep asking the user until they guess the correct number.\n"
   ]
  },
  {
   "cell_type": "code",
   "execution_count": 26,
   "id": "a87f8c0b-80f1-4639-8b1f-38b0ebb318b7",
   "metadata": {},
   "outputs": [
    {
     "name": "stdin",
     "output_type": "stream",
     "text": [
      "Guess the number:  5\n"
     ]
    },
    {
     "name": "stdout",
     "output_type": "stream",
     "text": [
      "Try again.\n"
     ]
    },
    {
     "name": "stdin",
     "output_type": "stream",
     "text": [
      "Guess the number:  6\n"
     ]
    },
    {
     "name": "stdout",
     "output_type": "stream",
     "text": [
      "Try again.\n"
     ]
    },
    {
     "name": "stdin",
     "output_type": "stream",
     "text": [
      "Guess the number:  7\n"
     ]
    },
    {
     "name": "stdout",
     "output_type": "stream",
     "text": [
      "Correct!\n"
     ]
    }
   ],
   "source": [
    "n = 7\n",
    "while True:\n",
    "    guess = int(input(\"Guess the number: \"))\n",
    "    if guess == n:\n",
    "        print(\"Correct!\")\n",
    "        break\n",
    "    else:\n",
    "        print(\"Try again.\")\n"
   ]
  },
  {
   "cell_type": "markdown",
   "id": "d93623be-95f5-48b4-978c-810720a051bd",
   "metadata": {},
   "source": [
    "15. Print the Fibonacci sequence up to n terms using a while loop.\n"
   ]
  },
  {
   "cell_type": "code",
   "execution_count": 27,
   "id": "2905518a-a6e8-4189-8aa1-01b7ba3ca039",
   "metadata": {},
   "outputs": [
    {
     "name": "stdout",
     "output_type": "stream",
     "text": [
      "0\n",
      "1\n",
      "1\n",
      "2\n",
      "3\n",
      "5\n",
      "8\n",
      "13\n",
      "21\n",
      "34\n"
     ]
    }
   ],
   "source": [
    "n = 10\n",
    "a, b = 0, 1\n",
    "count = 0\n",
    "while count < n:\n",
    "    print(a)\n",
    "    a, b = b, a + b\n",
    "    count += 1\n"
   ]
  },
  {
   "cell_type": "markdown",
   "id": "8da71e42-dd0f-4579-95a5-3a25be7bdfbf",
   "metadata": {},
   "source": [
    "16. Write a function that takes variable number of arguments using *args and returns their sum.\n"
   ]
  },
  {
   "cell_type": "code",
   "execution_count": 13,
   "id": "576ed77c-5f36-4486-9ccc-2eefd6ed8ed5",
   "metadata": {},
   "outputs": [],
   "source": [
    "def test(*args):\n",
    "    return sum(args)\n"
   ]
  },
  {
   "cell_type": "code",
   "execution_count": 14,
   "id": "c49ea89c-657d-4970-a930-fc0cb812edac",
   "metadata": {},
   "outputs": [
    {
     "data": {
      "text/plain": [
       "6"
      ]
     },
     "execution_count": 14,
     "metadata": {},
     "output_type": "execute_result"
    }
   ],
   "source": [
    "test(1,2,3)"
   ]
  },
  {
   "cell_type": "markdown",
   "id": "8ca7fb27-dfe1-46e2-80f4-633580267ec2",
   "metadata": {},
   "source": [
    "17. Write a program that unpacks a list into separate variables using *.\n"
   ]
  },
  {
   "cell_type": "code",
   "execution_count": 30,
   "id": "7236e9cc-615f-4eda-9c89-653246aa45dc",
   "metadata": {},
   "outputs": [
    {
     "name": "stdout",
     "output_type": "stream",
     "text": [
      "1\n",
      "[2, 3, 4, 5]\n"
     ]
    }
   ],
   "source": [
    "nums = [1, 2, 3, 4, 5]\n",
    "a, *b = nums\n",
    "print(a)  # 1\n",
    "print(b)  # [2, 3, 4, 5]\n"
   ]
  },
  {
   "cell_type": "markdown",
   "id": "5b2e19ad-84bf-4a14-8de9-31db31492e5f",
   "metadata": {},
   "source": [
    "18. Create a function that multiplies a number with itself n times using * (e.g., 2 * 3 = 6).\n"
   ]
  },
  {
   "cell_type": "code",
   "execution_count": 31,
   "id": "91e0b848-5241-4b2e-8331-06cf37aa6a21",
   "metadata": {},
   "outputs": [],
   "source": [
    "def multiply(n, times):\n",
    "    return n * times\n",
    "\n",
    "\n"
   ]
  },
  {
   "cell_type": "code",
   "execution_count": 32,
   "id": "5f568e9a-71a6-4175-bd32-c3d6392b72a2",
   "metadata": {},
   "outputs": [
    {
     "data": {
      "text/plain": [
       "6"
      ]
     },
     "execution_count": 32,
     "metadata": {},
     "output_type": "execute_result"
    }
   ],
   "source": [
    "multiply(3,2)"
   ]
  },
  {
   "cell_type": "markdown",
   "id": "0934eaf5-8692-4f5b-8106-ad545419821d",
   "metadata": {},
   "source": [
    "\n",
    "19. Use * to combine two lists into one:\n",
    "\n",
    "a = [1, 2]\n",
    "b = [3, 4]\n",
    "\n",
    "combined = [*a, *b]\n"
   ]
  },
  {
   "cell_type": "code",
   "execution_count": 33,
   "id": "9db3792e-21b0-4391-9c45-5455e37358a4",
   "metadata": {},
   "outputs": [
    {
     "name": "stdout",
     "output_type": "stream",
     "text": [
      "[1, 2, 3, 4]\n"
     ]
    }
   ],
   "source": [
    "a = [1, 2]\n",
    "b = [3, 4]\n",
    "combined = [*a, *b]\n",
    "print(combined)  \n"
   ]
  },
  {
   "cell_type": "markdown",
   "id": "1fb6ac4b-87f8-4f5d-b3ad-c7911bc54cd8",
   "metadata": {},
   "source": [
    "20. Write a function that checks whether a string is a palindrome.\n"
   ]
  },
  {
   "cell_type": "code",
   "execution_count": 34,
   "id": "ed216a8d-7ada-48ce-98e8-3073b4a4137a",
   "metadata": {},
   "outputs": [],
   "source": [
    "def palindrome(s):\n",
    "    return s == s[::-1]\n"
   ]
  },
  {
   "cell_type": "code",
   "execution_count": 35,
   "id": "1ed02fa7-b69a-4cad-a720-438f2c743595",
   "metadata": {},
   "outputs": [
    {
     "data": {
      "text/plain": [
       "False"
      ]
     },
     "execution_count": 35,
     "metadata": {},
     "output_type": "execute_result"
    }
   ],
   "source": [
    "palindrome('khadar')"
   ]
  },
  {
   "cell_type": "code",
   "execution_count": 36,
   "id": "dafe6407-d084-4df2-90f5-6ae45faa50a8",
   "metadata": {},
   "outputs": [
    {
     "data": {
      "text/plain": [
       "True"
      ]
     },
     "execution_count": 36,
     "metadata": {},
     "output_type": "execute_result"
    }
   ],
   "source": [
    "palindrome('madam')"
   ]
  },
  {
   "cell_type": "markdown",
   "id": "b120f126-9fbe-4843-ae3a-79cc7c50d4e8",
   "metadata": {},
   "source": [
    "21. Write a function that returns the number of vowels in a given string.\n"
   ]
  },
  {
   "cell_type": "code",
   "execution_count": 2,
   "id": "35257ab7-591e-4223-a7c9-8a5e67194590",
   "metadata": {},
   "outputs": [],
   "source": [
    "def vowels(s):\n",
    "    vowels = \"aeiouAEIOU\"\n",
    "    return sum(char in vowels for char in s)\n",
    "\n",
    "\n"
   ]
  },
  {
   "cell_type": "code",
   "execution_count": 3,
   "id": "b22949ef-efd2-4c35-a81b-8a9d3949b6bb",
   "metadata": {},
   "outputs": [
    {
     "data": {
      "text/plain": [
       "3"
      ]
     },
     "execution_count": 3,
     "metadata": {},
     "output_type": "execute_result"
    }
   ],
   "source": [
    "vowels(\"Hello World!\")"
   ]
  },
  {
   "cell_type": "markdown",
   "id": "80f9c8b5-c2f5-481b-b3a4-e920bef7f550",
   "metadata": {},
   "source": [
    "22. Write a function that takes a list of numbers and returns only the even numbers.\n"
   ]
  },
  {
   "cell_type": "code",
   "execution_count": 40,
   "id": "c599785e-4eca-4ecb-ac80-1eccccba48fe",
   "metadata": {},
   "outputs": [
    {
     "name": "stdout",
     "output_type": "stream",
     "text": [
      "[2, 4]\n"
     ]
    }
   ],
   "source": [
    "def evens(nums):\n",
    "    return [num for num in nums if num % 2 == 0]\n",
    "\n",
    "print(evens([1,2,3,4,5]))  \n"
   ]
  },
  {
   "cell_type": "markdown",
   "id": "364c1182-dba5-4120-845f-345eb9a83044",
   "metadata": {},
   "source": [
    "23. Write a function that converts Celsius to Fahrenheit.\n"
   ]
  },
  {
   "cell_type": "code",
   "execution_count": null,
   "id": "e31d021e-be8a-46a2-9838-a35c9902e12a",
   "metadata": {},
   "outputs": [],
   "source": []
  },
  {
   "cell_type": "markdown",
   "id": "c010b6ad-d785-496d-8c92-ebd639b47da8",
   "metadata": {},
   "source": [
    "24. Write a function that takes a string and returns the number of words in it.\n"
   ]
  },
  {
   "cell_type": "code",
   "execution_count": 41,
   "id": "21bc1deb-e550-48b1-aeb2-ce5c1178d070",
   "metadata": {},
   "outputs": [],
   "source": [
    "def words(s):\n",
    "    return len(s.split())\n"
   ]
  },
  {
   "cell_type": "code",
   "execution_count": 42,
   "id": "5ca29151-22a6-4193-9ff3-b085d9644082",
   "metadata": {},
   "outputs": [
    {
     "data": {
      "text/plain": [
       "4"
      ]
     },
     "execution_count": 42,
     "metadata": {},
     "output_type": "execute_result"
    }
   ],
   "source": [
    "words('hello how are you')"
   ]
  },
  {
   "cell_type": "markdown",
   "id": "0290b89e-57bb-4439-b0da-24b60bf85a3f",
   "metadata": {},
   "source": [
    "25. Write a function that uses *args and prints all values line by line with their index.\n"
   ]
  },
  {
   "cell_type": "code",
   "execution_count": 43,
   "id": "9771dce8-09fc-4c9c-94b4-f70815fa2b82",
   "metadata": {},
   "outputs": [
    {
     "name": "stdout",
     "output_type": "stream",
     "text": [
      "0: a\n",
      "1: b\n",
      "2: c\n"
     ]
    }
   ],
   "source": [
    "def print_args(*args):\n",
    "    for i, val in enumerate(args):\n",
    "        print(f\"{i}: {val}\")\n",
    "\n",
    "print_args(\"a\", \"b\", \"c\")\n"
   ]
  },
  {
   "cell_type": "markdown",
   "id": "ef47c127-64e9-4137-952f-9b208b825a01",
   "metadata": {},
   "source": [
    "26. Write a function that takes *args and returns their average.\n"
   ]
  },
  {
   "cell_type": "code",
   "execution_count": 1,
   "id": "74651652-d35a-4a22-916b-7e99e367f1f0",
   "metadata": {},
   "outputs": [
    {
     "name": "stdout",
     "output_type": "stream",
     "text": [
      "2.0\n"
     ]
    }
   ],
   "source": [
    "def average(*args):\n",
    "    return sum(args) / len(args) if args else 0\n",
    "\n",
    "print(average(1, 2, 3))  # 2.0\n"
   ]
  },
  {
   "cell_type": "markdown",
   "id": "ea4e49a4-9d05-4c1d-907b-d20fe49b4d14",
   "metadata": {},
   "source": [
    "27. Keep asking the user to enter a positive number. Stop when they enter a negative number.\n"
   ]
  },
  {
   "cell_type": "code",
   "execution_count": 4,
   "id": "6d2e598f-9d52-49d4-aae2-aab66991b7e0",
   "metadata": {},
   "outputs": [
    {
     "name": "stdin",
     "output_type": "stream",
     "text": [
      "Enter positive number (negative to quit):  7\n",
      "Enter positive number (negative to quit):  -9\n"
     ]
    }
   ],
   "source": [
    "while True:\n",
    "    n = int(input(\"Enter positive number (negative to quit): \"))\n",
    "    if n < 0:\n",
    "        break\n"
   ]
  },
  {
   "cell_type": "markdown",
   "id": "b7b892df-a0ea-443f-9492-a207973c82fa",
   "metadata": {},
   "source": [
    "28. Write a program to reverse a number using a while loop.\n"
   ]
  },
  {
   "cell_type": "code",
   "execution_count": 5,
   "id": "067fcb52-db1d-4589-9f46-044d39b5ed29",
   "metadata": {},
   "outputs": [
    {
     "name": "stdout",
     "output_type": "stream",
     "text": [
      "54321\n"
     ]
    }
   ],
   "source": [
    "num = 12345\n",
    "rev = 0\n",
    "while num > 0:\n",
    "    rev = rev * 10 + num % 10\n",
    "    num //= 10\n",
    "print(rev)  \n"
   ]
  },
  {
   "cell_type": "markdown",
   "id": "7e559075-32d5-4bb8-977f-5fc02292cedb",
   "metadata": {},
   "source": [
    "29. Find the first number divisible by both 3 and 5 greater than 100 using while.\n"
   ]
  },
  {
   "cell_type": "code",
   "execution_count": 6,
   "id": "dca62f4a-3f9a-4da7-935a-33bb33da059b",
   "metadata": {},
   "outputs": [
    {
     "name": "stdout",
     "output_type": "stream",
     "text": [
      "105\n"
     ]
    }
   ],
   "source": [
    "i= 101\n",
    "while True:\n",
    "    if i % 3 == 0 and i % 5 == 0:\n",
    "        print(i)\n",
    "        break\n",
    "    i += 1\n"
   ]
  },
  {
   "cell_type": "markdown",
   "id": "2b16e984-13fd-4e7c-8044-ad200df18c64",
   "metadata": {},
   "source": [
    "30. Use a while loop to check if a number is a prime.\n"
   ]
  },
  {
   "cell_type": "code",
   "execution_count": 7,
   "id": "5b09e420-a1dd-471a-87d3-5ed393f38486",
   "metadata": {},
   "outputs": [
    {
     "name": "stdin",
     "output_type": "stream",
     "text": [
      "Enter a number:  3\n"
     ]
    },
    {
     "name": "stdout",
     "output_type": "stream",
     "text": [
      "prime\n"
     ]
    }
   ],
   "source": [
    "# Check if n is prime by counting divisors\n",
    "n = int(input(\"Enter a number: \"))\n",
    "i = 1\n",
    "c = 0\n",
    "\n",
    "while i <= n:\n",
    "    if n % i == 0:\n",
    "           # Optional: prints each divisor\n",
    "        c += 1     # Count it\n",
    "    i += 1\n",
    "\n",
    "# A prime has exactly 2 divisors: 1 and itself\n",
    "if c == 2:\n",
    "    print(\"prime\")\n",
    "else:\n",
    "    print(\"not prime\")\n"
   ]
  },
  {
   "cell_type": "markdown",
   "id": "2480b80e-2679-4576-8cf8-a312d5241db2",
   "metadata": {},
   "source": [
    "31. Create a countdown timer using while, e.g., from 10 to 1.\n"
   ]
  },
  {
   "cell_type": "code",
   "execution_count": 8,
   "id": "6c6d127f-d8b4-4a82-a5be-f23eed6b8f7f",
   "metadata": {},
   "outputs": [
    {
     "name": "stdout",
     "output_type": "stream",
     "text": [
      "10\n",
      "9\n",
      "8\n",
      "7\n",
      "6\n",
      "5\n",
      "4\n",
      "3\n",
      "2\n",
      "1\n",
      "Liftoff!\n"
     ]
    }
   ],
   "source": [
    "count = 10\n",
    "while count > 0:\n",
    "    print(count)\n",
    "    count -= 1\n",
    "print(\"Liftoff!\")\n"
   ]
  },
  {
   "cell_type": "markdown",
   "id": "b321527f-304f-4120-8cad-2075faa26332",
   "metadata": {},
   "source": [
    "32. Print all elements in a nested list.\n"
   ]
  },
  {
   "cell_type": "code",
   "execution_count": 10,
   "id": "57716355-ad8b-494a-bdbc-ced5f99afe7b",
   "metadata": {},
   "outputs": [
    {
     "name": "stdout",
     "output_type": "stream",
     "text": [
      "1\n",
      "2\n",
      "3\n",
      "4\n",
      "5\n"
     ]
    }
   ],
   "source": [
    "nested = [[1, 2], [3, 4], [5]]\n",
    "for sub in nested:\n",
    "    for item in sub:\n",
    "        print(item)\n"
   ]
  },
  {
   "cell_type": "markdown",
   "id": "501ccd5c-28a5-409c-99eb-515af8545786",
   "metadata": {},
   "source": [
    "33. Count how many times each character appears in a string.\n"
   ]
  },
  {
   "cell_type": "code",
   "execution_count": 9,
   "id": "0ee39362-5e44-41bf-9cbb-5a1c56a415ac",
   "metadata": {},
   "outputs": [
    {
     "name": "stdout",
     "output_type": "stream",
     "text": [
      "{'h': 1, 'e': 1, 'l': 2, 'o': 1}\n"
     ]
    }
   ],
   "source": [
    "s = \"hello\"\n",
    "counts = {}\n",
    "for char in s:\n",
    "    counts[char] = counts.get(char, 0) + 1\n",
    "print(counts)\n"
   ]
  },
  {
   "cell_type": "markdown",
   "id": "4b135591-c5b9-44fd-bf38-2955fc51cb62",
   "metadata": {},
   "source": [
    "34. Use a for loop to find the largest number in a list without using max().\n"
   ]
  },
  {
   "cell_type": "code",
   "execution_count": 11,
   "id": "605ea3ee-fa9f-4d62-838e-d7cb8af9ed49",
   "metadata": {},
   "outputs": [
    {
     "name": "stdout",
     "output_type": "stream",
     "text": [
      "9\n"
     ]
    }
   ],
   "source": [
    "nums = [4, 2, 9, 1]\n",
    "largest = nums[0]\n",
    "for num in nums:\n",
    "    if num > largest:\n",
    "        largest = num\n",
    "print(largest)  # Output: 9\n"
   ]
  },
  {
   "cell_type": "markdown",
   "id": "dc21f13b-58fe-4e2f-86d5-d9595f598aa3",
   "metadata": {},
   "source": [
    "35. Create a list of squares for numbers from 1 to 10 using a loop.\n"
   ]
  },
  {
   "cell_type": "code",
   "execution_count": 12,
   "id": "d5157427-f7b7-498f-a462-b0459733182d",
   "metadata": {},
   "outputs": [
    {
     "name": "stdout",
     "output_type": "stream",
     "text": [
      "[1, 4, 9, 16, 25, 36, 49, 64, 81, 100]\n"
     ]
    }
   ],
   "source": [
    "squares = []\n",
    "for i in range(1, 11):\n",
    "    squares.append(i**2)\n",
    "print(squares)\n"
   ]
  },
  {
   "cell_type": "code",
   "execution_count": null,
   "id": "3e591c01-9762-4298-9891-e05ee8ac8e7f",
   "metadata": {},
   "outputs": [],
   "source": []
  }
 ],
 "metadata": {
  "kernelspec": {
   "display_name": "Python 3 (ipykernel)",
   "language": "python",
   "name": "python3"
  },
  "language_info": {
   "codemirror_mode": {
    "name": "ipython",
    "version": 3
   },
   "file_extension": ".py",
   "mimetype": "text/x-python",
   "name": "python",
   "nbconvert_exporter": "python",
   "pygments_lexer": "ipython3",
   "version": "3.13.5"
  }
 },
 "nbformat": 4,
 "nbformat_minor": 5
}
